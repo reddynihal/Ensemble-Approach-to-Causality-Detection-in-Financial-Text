{
  "nbformat": 4,
  "nbformat_minor": 0,
  "metadata": {
    "colab": {
      "provenance": [],
      "include_colab_link": true
    },
    "kernelspec": {
      "name": "python3",
      "display_name": "Python 3"
    },
    "language_info": {
      "name": "python"
    }
  },
  "cells": [
    {
      "cell_type": "markdown",
      "metadata": {
        "id": "view-in-github",
        "colab_type": "text"
      },
      "source": [
        "<a href=\"https://colab.research.google.com/github/reddynihal/Ensemble-Approach-to-Causality-Detection-in-Financial-Text/blob/main/Ensemble_Approach_to_Causality_Detection_in_Financial_Text.ipynb\" target=\"_parent\"><img src=\"https://colab.research.google.com/assets/colab-badge.svg\" alt=\"Open In Colab\"/></a>"
      ]
    },
    {
      "cell_type": "code",
      "metadata": {
        "colab": {
          "base_uri": "https://localhost:8080/"
        },
        "id": "F5OhAYJlI1zM",
        "outputId": "e6d96932-c165-4232-d217-b447fc8e827f"
      },
      "source": [
        "from google.colab import drive\n",
        "drive.mount('/content/gdrive')"
      ],
      "execution_count": null,
      "outputs": [
        {
          "output_type": "stream",
          "name": "stdout",
          "text": [
            "Mounted at /content/gdrive\n"
          ]
        }
      ]
    },
    {
      "cell_type": "code",
      "metadata": {
        "id": "RwK8-utgDr63"
      },
      "source": [
        "import pandas as pd\n",
        "import re\n",
        "import nltk\n",
        "import string\n",
        "import spacy\n",
        "\n",
        "from sklearn.metrics import accuracy_score,classification_report, f1_score\n",
        "from sklearn.model_selection import cross_val_score\n",
        "from sklearn.ensemble import AdaBoostClassifier\n",
        "from sklearn.model_selection import train_test_split\n",
        "from sklearn.pipeline import Pipeline\n",
        "from sklearn.feature_extraction.text import TfidfTransformer, CountVectorizer\n",
        "from sklearn.linear_model import SGDClassifier\n",
        "from sklearn.svm import LinearSVC, SVC\n",
        "from sklearn.ensemble import RandomForestClassifier\n",
        "from sklearn.ensemble import ExtraTreesClassifier\n",
        "from sklearn.linear_model import LogisticRegression\n",
        "from sklearn.naive_bayes import MultinomialNB\n",
        "from sklearn.ensemble import VotingClassifier\n",
        "from sklearn.ensemble import AdaBoostClassifier\n",
        "from sklearn.ensemble import StackingClassifier"
      ],
      "execution_count": null,
      "outputs": []
    },
    {
      "cell_type": "code",
      "metadata": {
        "id": "hOHOSxZnxDF6"
      },
      "source": [
        "nlp = spacy.load('en', disable=['parser', 'ner'])"
      ],
      "execution_count": null,
      "outputs": []
    },
    {
      "cell_type": "code",
      "metadata": {
        "id": "9ktEs583LZ47",
        "colab": {
          "base_uri": "https://localhost:8080/"
        },
        "outputId": "cc5143f6-4a70-4751-a84b-c29e436b3c0f"
      },
      "source": [
        "###--DATA PREPARATION--###\n",
        "class Utils(object):\n",
        "\n",
        "    def cleanText(self,text):\n",
        "        review = re.sub(r\"^https://t.co/[a-zA-Z0-9]*\\s\", \" \", str(text))\n",
        "        review = re.sub(r\"\\([\\s\\S]*\\)\", \" \", str(review))\n",
        "        review = re.sub(r\"\\s+https://t.co/[a-zA-Z0-9]*\\s\", \" \", str(review))\n",
        "        review = re.sub(r\"\\s+https://t.co/[a-zA-Z0-9]*$\", \" \", str(review))\n",
        "        review = review.lower()\n",
        "        review = re.sub(r\"that's\", \"that is\", str(review))\n",
        "        review = re.sub(r\"there's\", \"there is\", str(review))\n",
        "        review = re.sub(r\"what's\", \"what is\", str(review))\n",
        "        review = re.sub(r\"where's\", \"where is\", str(review))\n",
        "        review = re.sub(r\"it's\", \"it is\", str(review))\n",
        "        review = re.sub(r\"who's\", \"who is\", str(review))\n",
        "        review = re.sub(r\"i'm\", \"i am\", str(review))\n",
        "        review = re.sub(r\"she's\", \"she is\", str(review))\n",
        "        review = re.sub(r\"he's\", \"he is\", str(review))\n",
        "        review = re.sub(r\"they're\", \"they are\", str(review))\n",
        "        review = re.sub(r\"who're\", \"who are\", str(review))\n",
        "        review = re.sub(r\"ain't\", \"am not\", str(review))\n",
        "        review = re.sub(r\"wouldn't\", \"would not\", str(review))\n",
        "        review = re.sub(r\"shouldn't\", \"should not\", str(review))\n",
        "        review = re.sub(r\"can't\", \"can not\", str(review))\n",
        "        review = re.sub(r\"couldn't\", \"could not\", str(review))\n",
        "        review = re.sub(r\"won't\", \"will not\", str(review))\n",
        "        review = re.sub(r\" pm \", \" \", str(review))\n",
        "        review = re.sub(r\" am \", \" \", str(review))\n",
        "        review = re.sub(r'[^\\[\\]]+(?=\\])', \" \", str(review))\n",
        "        review = re.sub(r\"\\W\", \" \", str(review))\n",
        "        review = re.sub(r\"\\d\", \" \", str(review))\n",
        "        review = re.sub(r\"\\s+[a-z]\\s+\", \" \", str(review))\n",
        "        review = re.sub(r\"\\s+[a-z]$\", \" \", str(review))\n",
        "        review = re.sub(r\"^[a-z]\\s+\", \" \", str(review))\n",
        "        review = re.sub(r\"\\s+\", \" \", str(review))\n",
        "        return review\n",
        "\n",
        "    def remove_punc(self,text):\n",
        "        table = str.maketrans(\"\", \"\", string.punctuation)\n",
        "        return text.translate(table)\n",
        "\n",
        "    nltk.download('stopwords')\n",
        "    def remove_stops(self,text):\n",
        "        stop_words = set(nltk.corpus.stopwords.words('english'))\n",
        "        text = [word.lower() for word in text.split() if word.lower() not in stop_words]\n",
        "        return \" \".join(text)\n",
        "\n",
        "    def lemmatization(self, text):\n",
        "        doc = nlp(text)\n",
        "        return \" \".join([token.lemma_ for token in doc])\n",
        "\n",
        "    def readData(self,path,inputColumnIndex=1,outputColumnIndex=2):\n",
        "        df = pd.read_csv(path, error_bad_lines=False, sep=';')\n",
        "        X = df.iloc[:, inputColumnIndex].values\n",
        "        y = df.iloc[:, outputColumnIndex].values\n",
        "        return X,y\n",
        "\n",
        "    def draw_prediction_results(self,y_pred, y_test, my_tags, method):\n",
        "        print('accuracy of ' + method + ': %s' % accuracy_score(y_pred, y_test))\n",
        "        print(classification_report(y_test, y_pred, target_names=my_tags, digits = 6))\n",
        "\n",
        "\n",
        "    def crossValidation(self,prediction,input,output,k=5):\n",
        "        scores = cross_val_score(prediction, input,output, cv=k)\n",
        "        print(\"Accuracy of Cross Validation Mean: %0.6f (+/- %0.6f)\" % (scores.mean(), scores.std() * 2))"
      ],
      "execution_count": null,
      "outputs": [
        {
          "output_type": "stream",
          "name": "stdout",
          "text": [
            "[nltk_data] Downloading package stopwords to /root/nltk_data...\n",
            "[nltk_data]   Package stopwords is already up-to-date!\n"
          ]
        }
      ]
    },
    {
      "cell_type": "code",
      "metadata": {
        "id": "qFeC1xQ9L65U"
      },
      "source": [
        "###--FUNCTION CALLS FOR DATA PREPARATION--###\n",
        "utils = Utils()\n",
        "X,y=utils.readData('/content/gdrive/MyDrive/task.csv')\n",
        "\n",
        "ourTags =['0','1']\n",
        "corpus=[]\n",
        "\n",
        "for i in range(0, len(X)):\n",
        "    t = utils.cleanText(X[i])\n",
        "    t = utils.remove_punc(t)\n",
        "    t = utils.remove_stops(t)\n",
        "    t = utils.lemmatization(t)\n",
        "    corpus.append(t)\n",
        "#print(t)\n",
        "\n",
        "\n",
        "\n"
      ],
      "execution_count": null,
      "outputs": []
    },
    {
      "cell_type": "code",
      "metadata": {
        "colab": {
          "base_uri": "https://localhost:8080/"
        },
        "id": "BI0_p7PH_fjq",
        "outputId": "6dcc3490-18b6-4f93-9594-6d53e3b337e9"
      },
      "source": [
        "print(len(corpus))"
      ],
      "execution_count": null,
      "outputs": [
        {
          "output_type": "stream",
          "name": "stdout",
          "text": [
            "22058\n"
          ]
        }
      ]
    },
    {
      "cell_type": "code",
      "metadata": {
        "id": "sSViGaZd-lyL"
      },
      "source": [
        "X_train, X_test, y_train, y_test = train_test_split(corpus, y, test_size=0.2, random_state=0)"
      ],
      "execution_count": null,
      "outputs": []
    },
    {
      "cell_type": "code",
      "metadata": {
        "colab": {
          "base_uri": "https://localhost:8080/",
          "height": 316
        },
        "id": "RI6Mk2tF-4bh",
        "outputId": "b02405cc-b783-46f8-b739-e538c852dae0"
      },
      "source": [
        "# BAR PLOT VISUALIZATION\n",
        "import numpy as np\n",
        "import matplotlib.pyplot as plt\n",
        "\n",
        "data_spread = np.unique(y_train, return_counts=True)\n",
        "print(np.unique(y_train, return_counts=True))\n",
        "print(len(X_train))\n",
        "\n",
        "x_labels = data_spread[0]\n",
        "y_labels = data_spread[1]\n",
        "plt.bar(x_labels, y_labels)"
      ],
      "execution_count": null,
      "outputs": [
        {
          "output_type": "stream",
          "name": "stdout",
          "text": [
            "(array([0, 1]), array([16398,  1248]))\n",
            "17646\n"
          ]
        },
        {
          "output_type": "execute_result",
          "data": {
            "text/plain": [
              "<BarContainer object of 2 artists>"
            ]
          },
          "metadata": {},
          "execution_count": 7
        },
        {
          "output_type": "display_data",
          "data": {
            "image/png": "[encoded data removed]",
            "text/plain": [
              "<Figure size 432x288 with 1 Axes>"
            ]
          },
          "metadata": {
            "needs_background": "light"
          }
        }
      ]
    },
    {
      "cell_type": "code",
      "metadata": {
        "id": "BRqMCdPC_Dq3"
      },
      "source": [
        "from sklearn.feature_extraction.text import CountVectorizer\n",
        "from sklearn.feature_extraction.text import TfidfTransformer\n",
        "\n",
        "cv = CountVectorizer(min_df=3, max_df=0.2,analyzer='word', ngram_range=(1, 3))\n",
        "cv.fit(X_train)\n",
        "X_train=cv.transform(X_train)\n",
        "tfidf_transformer=TfidfTransformer(smooth_idf=True,use_idf=True)\n",
        "tfidf_transformer.fit(X_train)\n",
        "X_train = tfidf_transformer.transform(X_train)\n",
        "X_train = X_train.toarray()\n"
      ],
      "execution_count": null,
      "outputs": []
    },
    {
      "cell_type": "code",
      "metadata": {
        "id": "C1qhCLkF_MTC"
      },
      "source": [
        "X_test = cv.transform(X_test)\n",
        "X_test = tfidf_transformer.transform(X_test)\n",
        "X_test = X_test.toarray()"
      ],
      "execution_count": null,
      "outputs": []
    },
    {
      "cell_type": "code",
      "metadata": {
        "colab": {
          "base_uri": "https://localhost:8080/"
        },
        "id": "NlWyRwE5_S6w",
        "outputId": "43efb6f6-5484-4bb8-d36b-4b8de560947a"
      },
      "source": [
        "print(X_train.shape)"
      ],
      "execution_count": null,
      "outputs": [
        {
          "output_type": "stream",
          "name": "stdout",
          "text": [
            "(17646, 31297)\n"
          ]
        }
      ]
    },
    {
      "cell_type": "code",
      "metadata": {
        "colab": {
          "base_uri": "https://localhost:8080/"
        },
        "id": "BR13keL6_T4j",
        "outputId": "7a9350b9-fb75-4182-e38f-8a9830195d05"
      },
      "source": [
        "print(y_train.shape)"
      ],
      "execution_count": null,
      "outputs": [
        {
          "output_type": "stream",
          "name": "stdout",
          "text": [
            "(17646,)\n"
          ]
        }
      ]
    },
    {
      "cell_type": "code",
      "metadata": {
        "colab": {
          "base_uri": "https://localhost:8080/"
        },
        "id": "f-reFAv9_XwI",
        "outputId": "ed378579-5578-4277-b206-f075084a6d58"
      },
      "source": [
        "print(X_test.shape)"
      ],
      "execution_count": null,
      "outputs": [
        {
          "output_type": "stream",
          "name": "stdout",
          "text": [
            "(4412, 31297)\n"
          ]
        }
      ]
    },
    {
      "cell_type": "code",
      "metadata": {
        "colab": {
          "base_uri": "https://localhost:8080/"
        },
        "id": "JPzY3uet_Zb_",
        "outputId": "4bf9fe46-af92-4034-c83d-de54726943d6"
      },
      "source": [
        "print(y_test.shape)"
      ],
      "execution_count": null,
      "outputs": [
        {
          "output_type": "stream",
          "name": "stdout",
          "text": [
            "(4412,)\n"
          ]
        }
      ]
    },
    {
      "cell_type": "code",
      "metadata": {
        "colab": {
          "base_uri": "https://localhost:8080/"
        },
        "id": "zz9s79En_mqm",
        "outputId": "d3ba9875-27dd-442e-fb01-71616a2c58b6"
      },
      "source": [
        "import imblearn\n",
        "from imblearn.over_sampling import SMOTE\n",
        "from collections import Counter\n",
        "from matplotlib import pyplot\n",
        "from sklearn.preprocessing import LabelEncoder\n",
        "\n",
        "# transform the dataset\n",
        "oversample = SMOTE()\n",
        "X_train, y_train = oversample.fit_resample(X_train, y_train)\n",
        "\n",
        "# summarize distribution\n",
        "counter = Counter(y_train)\n",
        "for k,v in counter.items():\n",
        "\tper = v / len(y_train) * 100\n",
        "\tprint('Class=%s, n=%d (%.3f%%)' % (k, v, per))\n",
        "# plot the distribution\n",
        "pyplot.bar(counter.keys(), counter.values())\n",
        "pyplot.show()"
      ],
      "execution_count": null,
      "outputs": [
        {
          "output_type": "stream",
          "name": "stderr",
          "text": [
            "/usr/local/lib/python3.7/dist-packages/sklearn/externals/six.py:31: FutureWarning: The module is deprecated in version 0.21 and will be removed in version 0.23 since we've dropped support for Python 2.7. Please rely on the official version of six (https://pypi.org/project/six/).\n",
            "  \"(https://pypi.org/project/six/).\", FutureWarning)\n",
            "/usr/local/lib/python3.7/dist-packages/sklearn/utils/deprecation.py:144: FutureWarning: The sklearn.neighbors.base module is  deprecated in version 0.22 and will be removed in version 0.24. The corresponding classes / functions should instead be imported from sklearn.neighbors. Anything that cannot be imported from sklearn.neighbors is now part of the private API.\n",
            "  warnings.warn(message, FutureWarning)\n",
            "/usr/local/lib/python3.7/dist-packages/sklearn/utils/deprecation.py:87: FutureWarning: Function safe_indexing is deprecated; safe_indexing is deprecated in version 0.22 and will be removed in version 0.24.\n",
            "  warnings.warn(msg, category=FutureWarning)\n"
          ]
        }
      ]
    },
    {
      "cell_type": "code",
      "metadata": {
        "id": "XE7M8FiQBacK"
      },
      "source": [
        "print(X_train.shape)"
      ],
      "execution_count": null,
      "outputs": []
    },
    {
      "cell_type": "code",
      "metadata": {
        "id": "2DL6EG95BazC"
      },
      "source": [
        "print(y_train.shape)"
      ],
      "execution_count": null,
      "outputs": []
    },
    {
      "cell_type": "code",
      "metadata": {
        "colab": {
          "base_uri": "https://localhost:8080/"
        },
        "id": "KBjArnjbGE_V",
        "outputId": "14f8ed02-7d26-4625-e5e5-feb57ec07ae7"
      },
      "source": [
        "print(X_train)"
      ],
      "execution_count": null,
      "outputs": [
        {
          "output_type": "stream",
          "name": "stdout",
          "text": [
            "[[0. 0. 0. ... 0. 0. 0.]\n",
            " [0. 0. 0. ... 0. 0. 0.]\n",
            " [0. 0. 0. ... 0. 0. 0.]\n",
            " ...\n",
            " [0. 0. 0. ... 0. 0. 0.]\n",
            " [0. 0. 0. ... 0. 0. 0.]\n",
            " [0. 0. 0. ... 0. 0. 0.]]\n"
          ]
        }
      ]
    },
    {
      "cell_type": "code",
      "metadata": {
        "id": "M6iGryjsI_Wa",
        "colab": {
          "base_uri": "https://localhost:8080/"
        },
        "outputId": "9ff78c1e-1728-4ce8-e66f-718cb4d113ac"
      },
      "source": [
        "print(X.shape)"
      ],
      "execution_count": null,
      "outputs": [
        {
          "output_type": "stream",
          "name": "stdout",
          "text": [
            "(22058,)\n"
          ]
        }
      ]
    },
    {
      "cell_type": "code",
      "metadata": {
        "id": "yBWEOBbwLira"
      },
      "source": [
        "from sklearn.decomposition import TruncatedSVD\n",
        "from sklearn.pipeline import make_pipeline\n",
        "from sklearn.preprocessing import Normalizer"
      ],
      "execution_count": null,
      "outputs": []
    },
    {
      "cell_type": "code",
      "metadata": {
        "id": "8D5eRI9dLiua"
      },
      "source": [
        "print(\"Actual number of tfidf features:\",   X_train.shape[1])"
      ],
      "execution_count": null,
      "outputs": []
    },
    {
      "cell_type": "code",
      "metadata": {
        "id": "BUXjbuojLixX"
      },
      "source": [
        "svd = TruncatedSVD(100)\n",
        "lsa = make_pipeline(svd, Normalizer(copy=False))\n",
        "\n",
        "# Run SVD on the training data, then project the training data.\n",
        "X_train_lsa = lsa.fit_transform(X_train)"
      ],
      "execution_count": null,
      "outputs": []
    },
    {
      "cell_type": "code",
      "metadata": {
        "id": "pTERBhePLi1x"
      },
      "source": [
        "print(X_train_lsa.shape)"
      ],
      "execution_count": null,
      "outputs": []
    },
    {
      "cell_type": "code",
      "metadata": {
        "id": "ctX3C4EzLi5m"
      },
      "source": [
        "print(X_train_lsa.shape)"
      ],
      "execution_count": null,
      "outputs": []
    },
    {
      "cell_type": "code",
      "metadata": {
        "id": "H-vltJleLi8H"
      },
      "source": [
        "print(y_train.shape)"
      ],
      "execution_count": null,
      "outputs": []
    },
    {
      "cell_type": "code",
      "metadata": {
        "id": "JH14IpLELi_W"
      },
      "source": [
        "print(X_test_lsa.shape)"
      ],
      "execution_count": null,
      "outputs": []
    },
    {
      "cell_type": "code",
      "metadata": {
        "id": "7A7dw2vjM7Yv"
      },
      "source": [
        "print(y_test.shape)"
      ],
      "execution_count": null,
      "outputs": []
    },
    {
      "cell_type": "code",
      "metadata": {
        "colab": {
          "base_uri": "https://localhost:8080/"
        },
        "id": "2WydW3TsEggh",
        "outputId": "cd044e6c-5561-47f8-fcb7-0dc59c1e8af0"
      },
      "source": [
        "###--RANDOM FOREST--###\n",
        "random_forest = Pipeline([\n",
        "                        ('random_forest',\n",
        "                         RandomForestClassifier())\n",
        "                        ])\n",
        "random_forest.fit(X_train_lsa, y_train)\n",
        "pred_random_forest = random_forest.predict(X_test_lsa)\n",
        "\n",
        "# prediction results\n",
        "\n",
        "utils.draw_prediction_results(pred_random_forest,y_test,ourTags,\"Random Forest\")"
      ],
      "execution_count": null,
      "outputs": [
        {
          "output_type": "stream",
          "text": [
            "accuracy of Random Forest: 0.9460562103354487\n",
            "              precision    recall  f1-score   support\n",
            "\n",
            "           0       0.95      1.00      0.97      6129\n",
            "           1       0.95      0.29      0.44       489\n",
            "\n",
            "    accuracy                           0.95      6618\n",
            "   macro avg       0.95      0.64      0.71      6618\n",
            "weighted avg       0.95      0.95      0.93      6618\n",
            "\n"
          ],
          "name": "stdout"
        }
      ]
    },
    {
      "cell_type": "code",
      "metadata": {
        "colab": {
          "base_uri": "https://localhost:8080/"
        },
        "id": "fxdCmrVRLP37",
        "outputId": "c28f41ac-f057-422a-8ae0-3b448a903470"
      },
      "source": [
        "###--EXTRA TREE CLASSIFIER--###\n",
        "extra_tree = Pipeline([\n",
        "                        ('extra tree',\n",
        "                         ExtraTreesClassifier())\n",
        "                        ])\n",
        "extra_tree.fit(X_train_lsa, y_train)\n",
        "pred_extra_tree = extra_tree.predict(X_test_lsa)\n",
        "\n",
        "# prediction results\n",
        "utils.draw_prediction_results(pred_extra_tree,y_test,ourTags,\"Extra Tree Classifier\")\n",
        "\n",
        "# 5-fold cross validation results\n",
        "#utils.crossValidation(extra_tree,X,y,k=5)"
      ],
      "execution_count": null,
      "outputs": [
        {
          "output_type": "stream",
          "text": [
            "accuracy of Extra Tree Classifier: 0.9453762466001813\n",
            "              precision    recall  f1-score   support\n",
            "\n",
            "           0   0.948598  0.994854  0.971176      4081\n",
            "           1   0.840909  0.335347  0.479482       331\n",
            "\n",
            "    accuracy                       0.945376      4412\n",
            "   macro avg   0.894754  0.665101  0.725329      4412\n",
            "weighted avg   0.940519  0.945376  0.934287      4412\n",
            "\n",
            "Accuracy of Cross Validation Mean: 0.944827 (+/- 0.005443)\n"
          ],
          "name": "stdout"
        }
      ]
    },
    {
      "cell_type": "code",
      "metadata": {
        "colab": {
          "base_uri": "https://localhost:8080/"
        },
        "id": "jGiF5NL-0Z4C",
        "outputId": "cde17339-2f21-4ec8-d4e7-40309ba5727d"
      },
      "source": [
        "###--LOGISTIC REGRESSION--###\n",
        "lrp = Pipeline([\n",
        "                ('lr', LogisticRegression())\n",
        "                ])\n",
        "lrp.fit(X_train_lsa, y_train)\n",
        "\n",
        "y_pred = lrp.predict(X_test_lsa)\n",
        "\n",
        "# prediction results\n",
        "\n",
        "utils.draw_prediction_results(y_pred,y_test,ourTags,\"logistic regression\")\n",
        "\n",
        "# 5-fold cross validation results\n",
        "#utils.crossValidation(lrp,X,y,k=5)"
      ],
      "execution_count": null,
      "outputs": [
        {
          "output_type": "stream",
          "text": [
            "accuracy of logistic regression: 0.9399365367180417\n",
            "              precision    recall  f1-score   support\n",
            "\n",
            "           0   0.942281  0.996079  0.968434      4081\n",
            "           1   0.836735  0.247734  0.382284       331\n",
            "\n",
            "    accuracy                       0.939937      4412\n",
            "   macro avg   0.889508  0.621907  0.675359      4412\n",
            "weighted avg   0.934363  0.939937  0.924459      4412\n",
            "\n",
            "Accuracy of Cross Validation Mean: 0.942198 (+/- 0.003762)\n"
          ],
          "name": "stdout"
        }
      ]
    },
    {
      "cell_type": "code",
      "metadata": {
        "id": "UZ5qM2L5z8aX",
        "colab": {
          "base_uri": "https://localhost:8080/"
        },
        "outputId": "a32653fe-eb7b-4d66-81ed-b407e3f60371"
      },
      "source": [
        "###--LINEAR SVM--###\n",
        "linear_svm = Pipeline([\n",
        "                        ('linear_svc',\n",
        "                        SVC(kernel='linear'))\n",
        "                        ])\n",
        "linear_svm.fit(X_train_lsa, y_train)\n",
        "y_pred_svc = linear_svm.predict(X_test_lsa)\n",
        "\n",
        "# prediction results\n",
        "utils.draw_prediction_results(y_pred_svc,y_test,ourTags,\"Linear SVM\")\n",
        "\n",
        "# 5-fold cross validation results\n",
        "#utils.crossValidation(linear_svm,X,y,k=5)"
      ],
      "execution_count": null,
      "outputs": [
        {
          "output_type": "stream",
          "name": "stdout",
          "text": [
            "accuracy of Linear SVM: 0.9442429737080689\n",
            "              precision    recall  f1-score   support\n",
            "\n",
            "           0   0.946866  0.995589  0.970616      4081\n",
            "           1   0.851240  0.311178  0.455752       331\n",
            "\n",
            "    accuracy                       0.944243      4412\n",
            "   macro avg   0.899053  0.653384  0.713184      4412\n",
            "weighted avg   0.939691  0.944243  0.931990      4412\n",
            "\n",
            "Accuracy of Cross Validation Mean: 0.943694 (+/- 0.004462)\n"
          ]
        }
      ]
    },
    {
      "cell_type": "code",
      "metadata": {
        "colab": {
          "base_uri": "https://localhost:8080/"
        },
        "id": "-5R3fed-0oIs",
        "outputId": "2394e916-30c7-4524-d7bb-96c38827e8a2"
      },
      "source": [
        "###--MULTINOMIAL NAIVE BAYES--###\n",
        "naive_bayes = Pipeline([('vect', CountVectorizer(min_df=3, max_df=0.2, analyzer='word', ngram_range=(1, 3),\n",
        "                                                 )),\n",
        "                        ('tfidf', TfidfTransformer()),\n",
        "                        ('naive_bayes',\n",
        "                         MultinomialNB())\n",
        "                        ])\n",
        "naive_bayes.fit(X_train_lsa, y_train)\n",
        "pred_naive_bayes = naive_bayes.predict(X_test_lsa)\n",
        "\n",
        "# prediction results\n",
        "\n",
        "utils.draw_prediction_results(pred_naive_bayes,y_test,ourTags,\"Naive Bayes\")\n",
        "\n",
        "# 5-fold cross validation results\n",
        "#utils.crossValidation(naive_bayes,X,y,k=5)"
      ],
      "execution_count": null,
      "outputs": [
        {
          "output_type": "stream",
          "text": [
            "accuracy of Naive Bayes: 0.9419764279238441\n",
            "              precision    recall  f1-score   support\n",
            "\n",
            "           0   0.943016  0.997550  0.969517      4081\n",
            "           1   0.894737  0.256798  0.399061       331\n",
            "\n",
            "    accuracy                       0.941976      4412\n",
            "   macro avg   0.918876  0.627174  0.684289      4412\n",
            "weighted avg   0.939394  0.941976  0.926719      4412\n",
            "\n",
            "Accuracy of Cross Validation Mean: 0.942923 (+/- 0.002934)\n"
          ],
          "name": "stdout"
        }
      ]
    },
    {
      "cell_type": "code",
      "metadata": {
        "colab": {
          "base_uri": "https://localhost:8080/"
        },
        "id": "XZWZ3Ohv27rw",
        "outputId": "6c9eeece-9e72-40a2-e33e-07f0b6128ca5"
      },
      "source": [
        "###--VOTING CLASSIFIER--###\n",
        "#create a dictionary of our models\n",
        "estimators=[(\"Linear SVM\", linear_svm), (\"Logistic Regression\", lrp), (\"Multinomial Naive Bayes\", naive_bayes), (\"Extra Tree\", extra_tree)]\n",
        "\n",
        "hard_ensemble = VotingClassifier(estimators, voting=\"hard\")\n",
        "hard_ensemble.fit(X_train_lsa, y_train)\n",
        "pred_hard_ensemble = hard_ensemble.predict(X_test_lsa)\n",
        "\n",
        "# prediction results\n",
        "utils.draw_prediction_results(pred_hard_ensemble,y_test,ourTags,\"Hard Ensemble\")\n",
        "\n",
        "# 5-fold cross validation results\n",
        "#utils.crossValidation(hard_ensemble,X,y,k=5)"
      ],
      "execution_count": null,
      "outputs": [
        {
          "output_type": "stream",
          "text": [
            "accuracy of Hard Ensemble: 0.9435630099728014\n",
            "              precision    recall  f1-score   support\n",
            "\n",
            "           0   0.943313  0.999020  0.970368      4081\n",
            "           1   0.955556  0.259819  0.408551       331\n",
            "\n",
            "    accuracy                       0.943563      4412\n",
            "   macro avg   0.949434  0.629419  0.689459      4412\n",
            "weighted avg   0.944232  0.943563  0.928219      4412\n",
            "\n",
            "Accuracy of Cross Validation Mean: 0.943921 (+/- 0.003166)\n"
          ],
          "name": "stdout"
        }
      ]
    },
    {
      "cell_type": "code",
      "metadata": {
        "colab": {
          "base_uri": "https://localhost:8080/"
        },
        "id": "gn262rrJ5qaX",
        "outputId": "54bbecc9-fa9f-4032-8bec-375889d36707"
      },
      "source": [
        "###--ADABOOST--###\n",
        "seed = 10\n",
        "num_trees = 30\n",
        "\n",
        "ada_boost = Pipeline([\n",
        "                        ('ada_boost',\n",
        "                         AdaBoostClassifier(n_estimators=num_trees, random_state=seed))\n",
        "                        ])\n",
        "ada_boost.fit(X_train_lsa, y_train)\n",
        "pred_ada_boost = ada_boost.predict(X_test_lsa)\n",
        "\n",
        "# prediction results\n",
        "utils.draw_prediction_results(pred_ada_boost,y_test,ourTags,\"Ada Boost\")\n",
        "\n",
        "# 5-fold cross validation results\n",
        "#utils.crossValidation(ada_boost,X,y,k=5)"
      ],
      "execution_count": null,
      "outputs": [
        {
          "output_type": "stream",
          "text": [
            "accuracy of Ada Boost: 0.9376699909338169\n",
            "              precision    recall  f1-score   support\n",
            "\n",
            "           0   0.946714  0.988238  0.967030      4081\n",
            "           1   0.684211  0.314199  0.430642       331\n",
            "\n",
            "    accuracy                       0.937670      4412\n",
            "   macro avg   0.815462  0.651219  0.698836      4412\n",
            "weighted avg   0.927020  0.937670  0.926789      4412\n",
            "\n",
            "Accuracy of Cross Validation Mean: 0.935533 (+/- 0.008805)\n"
          ],
          "name": "stdout"
        }
      ]
    },
    {
      "cell_type": "code",
      "metadata": {
        "id": "ie6sb5Gi8iIa",
        "colab": {
          "base_uri": "https://localhost:8080/"
        },
        "outputId": "1f7d1fb0-9fcb-476a-cee8-58ef7cbd9a4f"
      },
      "source": [
        "###--STACKING CLASSIFIER--###\n",
        "base_learners = [     ('1', ExtraTreesClassifier()),\n",
        "                      ('2', LogisticRegression()),\n",
        "                      ('3', MultinomialNB())\n",
        "              ]\n",
        "stacking  = Pipeline([\n",
        "                        ('stacking',\n",
        "                         StackingClassifier(estimators=base_learners, final_estimator=SVC(kernel='linear')))\n",
        "                     ])\n",
        "\n",
        "stacking.fit(X_train_lsa, y_train)\n",
        "pred_stacking = stacking.predict(X_test_lsa)\n",
        "\n",
        "# prediction results\n",
        "utils.draw_prediction_results(pred_stacking,y_test,ourTags,\"Stacking\")\n",
        "\n",
        "# 5-fold cross validation results\n",
        "#utils.crossValidation(stacking,X,y,k=5)"
      ],
      "execution_count": null,
      "outputs": [
        {
          "output_type": "stream",
          "text": [
            "accuracy of Stacking: 0.9442429737080689\n",
            "              precision    recall  f1-score   support\n",
            "\n",
            "           0   0.944586  0.998285  0.970693      4081\n",
            "           1   0.929293  0.277946  0.427907       331\n",
            "\n",
            "    accuracy                       0.944243      4412\n",
            "   macro avg   0.936940  0.638115  0.699300      4412\n",
            "weighted avg   0.943439  0.944243  0.929972      4412\n",
            "\n",
            "Accuracy of Cross Validation Mean: 0.944147 (+/- 0.003968)\n"
          ],
          "name": "stdout"
        }
      ]
    },
    {
      "cell_type": "code",
      "metadata": {
        "id": "ifbr9VlSDIRW"
      },
      "source": [
        "## COLLECTIVE DATAFRAME FOR VARIOUS MODEL PREDICTIONS\n",
        "df_test = pd.DataFrame()\n",
        "df_test['y_actual'] = np.where(y_test == y_test, 1, 0)\n",
        "df_test['svm'] = df_svm['Classification']\n",
        "df_test['rf'] = df_rf['Classification']\n",
        "df_test['nb'] = df_nb['Classification']\n",
        "df_test['et'] = df_et['Classification']\n",
        "df_test['lr'] = df_lr['Classification']\n",
        "df_test['voting'] = df_voting['Classification']\n",
        "\n",
        "df_test.head()"
      ],
      "execution_count": null,
      "outputs": []
    },
    {
      "cell_type": "code",
      "source": [
        "##PERFORMING COCHRAN's Q TEST FOR JUDGING THE DIFFERENCE BETWEEN VARIOUS ML MODELS\n",
        "q, p_value = cochrans_q(np.array(df_test['y_actual']),\n",
        "                       np.array(df_test['svm']),\n",
        "                        np.array(df_test['rf']),\n",
        "                        np.array(df_test['et']),\n",
        "                        np.array(df_test['lr']),\n",
        "                        np.array(df_test['voting']))\n",
        "\n",
        "print('Q: %.3f' % q)\n",
        "print('p-value: %.3f' % p_value)\n",
        "# THERE EXIST SIGNIFICANT DIFFERENCE BETWEEN THESE MODELS PREDICTIONS"
      ],
      "metadata": {
        "id": "CvyJLyGqgU86"
      },
      "execution_count": null,
      "outputs": []
    },
    {
      "cell_type": "code",
      "source": [
        "###POST-HOC ANALYSIS TO IDENTIFY THE DIFFERENCE BETWEEN WHICH MACHINE LEARNING MODEL\n",
        "from itertools import combinations\n",
        "df_wo_actual = df_test[['svm','rf','nb','et','lr','voting']]\n",
        "cc = list(combinations(df_wo_actual.columns,2))\n",
        "\n",
        "for i in cc:\n",
        "  chi2, p_value = cochrans_q(np.array(df_test['y_actual']),\n",
        "                          np.array(df_test[i[0]]),\n",
        "                          np.array(df_test[i[1]]))\n",
        "  if p_value<0.05:\n",
        "    print('compare {}=>{}'.format(i[0],i[1]))\n",
        "    print('Cochran\\'s Q Chi^2: %.3f' % chi2)\n",
        "    print('Cochran\\'s Q p-value: %.3f' % p_value)"
      ],
      "metadata": {
        "id": "UTvf09S-gZ1L"
      },
      "execution_count": null,
      "outputs": []
    }
  ]
}